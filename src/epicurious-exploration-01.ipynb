{
 "cells": [
  {
   "cell_type": "markdown",
   "metadata": {},
   "source": [
    "# epicurious-exploration-01\n",
    "\n",
    "Converts the category tags for each recipe into a tf-idf style vector. Given a starting recipe in the data set, then retrieves the 10 most similar recipes juding by category vectors alone."
   ]
  },
  {
   "cell_type": "code",
   "execution_count": 1,
   "metadata": {},
   "outputs": [],
   "source": [
    "import numpy as np\n",
    "import pandas as pd\n",
    "from sklearn import feature_extraction, preprocessing, metrics"
   ]
  },
  {
   "cell_type": "code",
   "execution_count": 94,
   "metadata": {},
   "outputs": [],
   "source": [
    "df = pd.read_json('../data/epicurious-recipes.json')\n",
    "\n",
    "# Filter out rows that don't have the categories column filled.\n",
    "df = df[~df['categories'].isna()]\n",
    "df = df.reindex()"
   ]
  },
  {
   "cell_type": "code",
   "execution_count": 99,
   "metadata": {},
   "outputs": [],
   "source": [
    "# Convert category tags for each sample to multi-hot vector, then run tf-idf on resulting matrix.\n",
    "mlb = preprocessing.MultiLabelBinarizer()\n",
    "X = mlb.fit_transform(df['categories'])\n",
    "\n",
    "tfidf = feature_extraction.text.TfidfTransformer()\n",
    "T = tfidf.fit_transform(X).toarray()"
   ]
  },
  {
   "cell_type": "code",
   "execution_count": 101,
   "metadata": {},
   "outputs": [
    {
     "data": {
      "text/html": [
       "<div>\n",
       "<style scoped>\n",
       "    .dataframe tbody tr th:only-of-type {\n",
       "        vertical-align: middle;\n",
       "    }\n",
       "\n",
       "    .dataframe tbody tr th {\n",
       "        vertical-align: top;\n",
       "    }\n",
       "\n",
       "    .dataframe thead th {\n",
       "        text-align: right;\n",
       "    }\n",
       "</style>\n",
       "<table border=\"1\" class=\"dataframe\">\n",
       "  <thead>\n",
       "    <tr style=\"text-align: right;\">\n",
       "      <th></th>\n",
       "      <th>title</th>\n",
       "      <th>desc</th>\n",
       "    </tr>\n",
       "  </thead>\n",
       "  <tbody>\n",
       "    <tr>\n",
       "      <th>6610</th>\n",
       "      <td>Shoyu Ramen</td>\n",
       "      <td>Lush pork, toothsome noodles, and a heady brot...</td>\n",
       "    </tr>\n",
       "    <tr>\n",
       "      <th>2605</th>\n",
       "      <td>Braised Spiced Pork with Cao Lau Noodles</td>\n",
       "      <td>The synthesis of fresh and longcooked textures...</td>\n",
       "    </tr>\n",
       "    <tr>\n",
       "      <th>1019</th>\n",
       "      <td>Bean Thread Noodles with Pickled Vegetables</td>\n",
       "      <td>For the quick pickles, try using other crisp v...</td>\n",
       "    </tr>\n",
       "    <tr>\n",
       "      <th>3503</th>\n",
       "      <td>Spicy Pork and Mustard Green Soup</td>\n",
       "      <td>It might look like a lot when the greens are r...</td>\n",
       "    </tr>\n",
       "    <tr>\n",
       "      <th>17245</th>\n",
       "      <td>Liu Shaokun's Spicy Buckwheat Noodles with Chi...</td>\n",
       "      <td>Active time: 40 min Start to finish: 40 min</td>\n",
       "    </tr>\n",
       "    <tr>\n",
       "      <th>529</th>\n",
       "      <td>Taiwanese Beef Noodle Soup</td>\n",
       "      <td>This rich soup is hearty enough to serve as a ...</td>\n",
       "    </tr>\n",
       "    <tr>\n",
       "      <th>2098</th>\n",
       "      <td>Spicy Vietnamese Beef and Noodle Soup</td>\n",
       "      <td>A hearty stew-like soup inspired by Vietnamese...</td>\n",
       "    </tr>\n",
       "    <tr>\n",
       "      <th>16034</th>\n",
       "      <td>Thai Ginger Chicken Salad</td>\n",
       "      <td>The fresh herbs in this dish- part of the glut...</td>\n",
       "    </tr>\n",
       "    <tr>\n",
       "      <th>14194</th>\n",
       "      <td>Quick Pork Pho</td>\n",
       "      <td>A few spices (and a cool skillet move) turn st...</td>\n",
       "    </tr>\n",
       "    <tr>\n",
       "      <th>15773</th>\n",
       "      <td>Thai Beef Stew With Lemongrass and Noodles</td>\n",
       "      <td>In this soul-satisfying dish, delicate rice no...</td>\n",
       "    </tr>\n",
       "  </tbody>\n",
       "</table>\n",
       "</div>"
      ],
      "text/plain": [
       "                                                   title  \\\n",
       "6610                                        Shoyu Ramen    \n",
       "2605           Braised Spiced Pork with Cao Lau Noodles    \n",
       "1019        Bean Thread Noodles with Pickled Vegetables    \n",
       "3503                  Spicy Pork and Mustard Green Soup    \n",
       "17245  Liu Shaokun's Spicy Buckwheat Noodles with Chi...   \n",
       "529                          Taiwanese Beef Noodle Soup    \n",
       "2098              Spicy Vietnamese Beef and Noodle Soup    \n",
       "16034                         Thai Ginger Chicken Salad    \n",
       "14194                                    Quick Pork Pho    \n",
       "15773        Thai Beef Stew With Lemongrass and Noodles    \n",
       "\n",
       "                                                    desc  \n",
       "6610   Lush pork, toothsome noodles, and a heady brot...  \n",
       "2605   The synthesis of fresh and longcooked textures...  \n",
       "1019   For the quick pickles, try using other crisp v...  \n",
       "3503   It might look like a lot when the greens are r...  \n",
       "17245        Active time: 40 min Start to finish: 40 min  \n",
       "529    This rich soup is hearty enough to serve as a ...  \n",
       "2098   A hearty stew-like soup inspired by Vietnamese...  \n",
       "16034  The fresh herbs in this dish- part of the glut...  \n",
       "14194  A few spices (and a cool skillet move) turn st...  \n",
       "15773  In this soul-satisfying dish, delicate rice no...  "
      ]
     },
     "execution_count": 101,
     "metadata": {},
     "output_type": "execute_result"
    }
   ],
   "source": [
    "# Some example indices for focal recipes to search from.\n",
    "i_carbo = 9253\n",
    "i_maccheese = 12468\n",
    "i_shoyuramen = 6604\n",
    "\n",
    "i_target = i_shoyuramen\n",
    "\n",
    "S = metrics.pairwise.cosine_similarity(T, T[[i_target]]).flatten()\n",
    "\n",
    "k = 10\n",
    "ind = np.argpartition(S, -k, axis=0)[-k:]\n",
    "ind = ind[np.argsort(-S[ind])]\n",
    "df.iloc[ind][['title', 'desc']]"
   ]
  }
 ],
 "metadata": {
  "kernelspec": {
   "display_name": "base",
   "language": "python",
   "name": "python3"
  },
  "language_info": {
   "codemirror_mode": {
    "name": "ipython",
    "version": 3
   },
   "file_extension": ".py",
   "mimetype": "text/x-python",
   "name": "python",
   "nbconvert_exporter": "python",
   "pygments_lexer": "ipython3",
   "version": "3.11.5"
  }
 },
 "nbformat": 4,
 "nbformat_minor": 2
}
